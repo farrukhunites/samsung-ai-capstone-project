{
 "cells": [
  {
   "cell_type": "code",
   "execution_count": 1,
   "id": "95671bf7",
   "metadata": {},
   "outputs": [],
   "source": [
    "import tensorflow as tf\n",
    "from tensorflow.keras import datasets, layers, models\n",
    "import matplotlib.pyplot as plt\n",
    "import numpy as np\n",
    "import pandas as pd"
   ]
  },
  {
   "cell_type": "code",
   "execution_count": 2,
   "id": "63f21a4f",
   "metadata": {},
   "outputs": [],
   "source": [
    "df = pd.read_csv('fer2013.csv')"
   ]
  },
  {
   "cell_type": "code",
   "execution_count": 3,
   "id": "ed5351e4",
   "metadata": {},
   "outputs": [
    {
     "name": "stdout",
     "output_type": "stream",
     "text": [
      "<class 'pandas.core.frame.DataFrame'>\n",
      "RangeIndex: 35887 entries, 0 to 35886\n",
      "Data columns (total 3 columns):\n",
      " #   Column   Non-Null Count  Dtype \n",
      "---  ------   --------------  ----- \n",
      " 0   emotion  35887 non-null  int64 \n",
      " 1   pixels   35887 non-null  object\n",
      " 2   Usage    35887 non-null  object\n",
      "dtypes: int64(1), object(2)\n",
      "memory usage: 841.2+ KB\n"
     ]
    }
   ],
   "source": [
    "df.info()"
   ]
  },
  {
   "cell_type": "code",
   "execution_count": 4,
   "id": "6a15ed9a",
   "metadata": {},
   "outputs": [
    {
     "data": {
      "text/html": [
       "<div>\n",
       "<style scoped>\n",
       "    .dataframe tbody tr th:only-of-type {\n",
       "        vertical-align: middle;\n",
       "    }\n",
       "\n",
       "    .dataframe tbody tr th {\n",
       "        vertical-align: top;\n",
       "    }\n",
       "\n",
       "    .dataframe thead th {\n",
       "        text-align: right;\n",
       "    }\n",
       "</style>\n",
       "<table border=\"1\" class=\"dataframe\">\n",
       "  <thead>\n",
       "    <tr style=\"text-align: right;\">\n",
       "      <th></th>\n",
       "      <th>emotion</th>\n",
       "    </tr>\n",
       "  </thead>\n",
       "  <tbody>\n",
       "    <tr>\n",
       "      <th>count</th>\n",
       "      <td>35887.000000</td>\n",
       "    </tr>\n",
       "    <tr>\n",
       "      <th>mean</th>\n",
       "      <td>3.323265</td>\n",
       "    </tr>\n",
       "    <tr>\n",
       "      <th>std</th>\n",
       "      <td>1.873819</td>\n",
       "    </tr>\n",
       "    <tr>\n",
       "      <th>min</th>\n",
       "      <td>0.000000</td>\n",
       "    </tr>\n",
       "    <tr>\n",
       "      <th>25%</th>\n",
       "      <td>2.000000</td>\n",
       "    </tr>\n",
       "    <tr>\n",
       "      <th>50%</th>\n",
       "      <td>3.000000</td>\n",
       "    </tr>\n",
       "    <tr>\n",
       "      <th>75%</th>\n",
       "      <td>5.000000</td>\n",
       "    </tr>\n",
       "    <tr>\n",
       "      <th>max</th>\n",
       "      <td>6.000000</td>\n",
       "    </tr>\n",
       "  </tbody>\n",
       "</table>\n",
       "</div>"
      ],
      "text/plain": [
       "            emotion\n",
       "count  35887.000000\n",
       "mean       3.323265\n",
       "std        1.873819\n",
       "min        0.000000\n",
       "25%        2.000000\n",
       "50%        3.000000\n",
       "75%        5.000000\n",
       "max        6.000000"
      ]
     },
     "execution_count": 4,
     "metadata": {},
     "output_type": "execute_result"
    }
   ],
   "source": [
    "df.describe()"
   ]
  },
  {
   "cell_type": "code",
   "execution_count": null,
   "id": "f30ace17",
   "metadata": {},
   "outputs": [],
   "source": []
  },
  {
   "cell_type": "code",
   "execution_count": null,
   "id": "e563c158",
   "metadata": {},
   "outputs": [],
   "source": []
  },
  {
   "cell_type": "code",
   "execution_count": 31,
   "id": "791ae8c1",
   "metadata": {},
   "outputs": [
    {
     "data": {
      "text/plain": [
       "(35887, 3)"
      ]
     },
     "execution_count": 31,
     "metadata": {},
     "output_type": "execute_result"
    }
   ],
   "source": [
    "df.shape"
   ]
  },
  {
   "cell_type": "code",
   "execution_count": 30,
   "id": "c133ec91",
   "metadata": {},
   "outputs": [
    {
     "data": {
      "text/html": [
       "<div>\n",
       "<style scoped>\n",
       "    .dataframe tbody tr th:only-of-type {\n",
       "        vertical-align: middle;\n",
       "    }\n",
       "\n",
       "    .dataframe tbody tr th {\n",
       "        vertical-align: top;\n",
       "    }\n",
       "\n",
       "    .dataframe thead th {\n",
       "        text-align: right;\n",
       "    }\n",
       "</style>\n",
       "<table border=\"1\" class=\"dataframe\">\n",
       "  <thead>\n",
       "    <tr style=\"text-align: right;\">\n",
       "      <th></th>\n",
       "      <th>emotion</th>\n",
       "      <th>pixels</th>\n",
       "      <th>Usage</th>\n",
       "    </tr>\n",
       "  </thead>\n",
       "  <tbody>\n",
       "    <tr>\n",
       "      <th>0</th>\n",
       "      <td>0</td>\n",
       "      <td>70 80 82 72 58 58 60 63 54 58 60 48 89 115 121...</td>\n",
       "      <td>Training</td>\n",
       "    </tr>\n",
       "    <tr>\n",
       "      <th>1</th>\n",
       "      <td>0</td>\n",
       "      <td>151 150 147 155 148 133 111 140 170 174 182 15...</td>\n",
       "      <td>Training</td>\n",
       "    </tr>\n",
       "    <tr>\n",
       "      <th>2</th>\n",
       "      <td>2</td>\n",
       "      <td>231 212 156 164 174 138 161 173 182 200 106 38...</td>\n",
       "      <td>Training</td>\n",
       "    </tr>\n",
       "    <tr>\n",
       "      <th>3</th>\n",
       "      <td>4</td>\n",
       "      <td>24 32 36 30 32 23 19 20 30 41 21 22 32 34 21 1...</td>\n",
       "      <td>Training</td>\n",
       "    </tr>\n",
       "    <tr>\n",
       "      <th>4</th>\n",
       "      <td>6</td>\n",
       "      <td>4 0 0 0 0 0 0 0 0 0 0 0 3 15 23 28 48 50 58 84...</td>\n",
       "      <td>Training</td>\n",
       "    </tr>\n",
       "  </tbody>\n",
       "</table>\n",
       "</div>"
      ],
      "text/plain": [
       "   emotion                                             pixels     Usage\n",
       "0        0  70 80 82 72 58 58 60 63 54 58 60 48 89 115 121...  Training\n",
       "1        0  151 150 147 155 148 133 111 140 170 174 182 15...  Training\n",
       "2        2  231 212 156 164 174 138 161 173 182 200 106 38...  Training\n",
       "3        4  24 32 36 30 32 23 19 20 30 41 21 22 32 34 21 1...  Training\n",
       "4        6  4 0 0 0 0 0 0 0 0 0 0 0 3 15 23 28 48 50 58 84...  Training"
      ]
     },
     "execution_count": 30,
     "metadata": {},
     "output_type": "execute_result"
    }
   ],
   "source": [
    "df.head()"
   ]
  },
  {
   "cell_type": "code",
   "execution_count": 19,
   "id": "9b53f8bc",
   "metadata": {},
   "outputs": [],
   "source": [
    "# convert string to integer\n",
    "def atoi(s):\n",
    "    n = 0\n",
    "    for i in s:\n",
    "        n = n*10 + ord(i) - ord(\"0\")\n",
    "    return n"
   ]
  },
  {
   "cell_type": "code",
   "execution_count": 27,
   "id": "44395766",
   "metadata": {},
   "outputs": [],
   "source": [
    "dictionary = {0:'Angry', 1:'Disgust', 2:'Fear', 3:'Happy', 4:'Sad', 5:'Surprise', 6:'Neutral'}"
   ]
  },
  {
   "cell_type": "code",
   "execution_count": 33,
   "id": "27dad8b6",
   "metadata": {},
   "outputs": [],
   "source": [
    "X_train = np.zeros((28709,48,48),dtype=np.uint8)\n",
    "X_test = np.zeros((7178,48,48),dtype=np.uint8)\n",
    "\n",
    "Y_train = np.zeros(28709,dtype=np.uint8)\n",
    "Y_test = np.zeros(7178,dtype=np.uint8)"
   ]
  },
  {
   "cell_type": "code",
   "execution_count": 34,
   "id": "70c72680",
   "metadata": {},
   "outputs": [],
   "source": [
    "count_test = 0\n",
    "for i in range(len(df)):\n",
    "    txt = df['pixels'][i]\n",
    "    words = txt.split()\n",
    "\n",
    "    if i < 28709:\n",
    "        for j in range(2304):\n",
    "            row = j // 48\n",
    "            col = j % 48\n",
    "            X_train[i][row][col] = atoi(words[j])\n",
    "\n",
    "        Y_train[i] = df['emotion'][i]\n",
    "        \n",
    "    else:\n",
    "        for j in range(2304):\n",
    "            row = j // 48\n",
    "            col = j % 48\n",
    "            X_test[count_test][row][col] = atoi(words[j])\n",
    "\n",
    "        Y_test[count_test] = df['emotion'][i]\n",
    "        count_test += 1"
   ]
  },
  {
   "cell_type": "code",
   "execution_count": 39,
   "id": "8f199c43",
   "metadata": {},
   "outputs": [],
   "source": [
    "def plot_sample(X, y, index):\n",
    "    plt.figure(figsize = (15,2))\n",
    "    plt.imshow(X[index])\n",
    "    plt.xlabel(dictionary[y[index]])"
   ]
  },
  {
   "cell_type": "code",
   "execution_count": 40,
   "id": "dba407fb",
   "metadata": {},
   "outputs": [
    {
     "data": {
      "image/png": "[encoded data removed]",
      "text/plain": [
       "<Figure size 1080x144 with 1 Axes>"
      ]
     },
     "metadata": {
      "needs_background": "light"
     },
     "output_type": "display_data"
    }
   ],
   "source": [
    "plot_sample(X_train, Y_train, 0)"
   ]
  },
  {
   "cell_type": "code",
   "execution_count": 41,
   "id": "1507c817",
   "metadata": {},
   "outputs": [
    {
     "data": {
      "image/png": "[encoded data removed]",
      "text/plain": [
       "<Figure size 1080x144 with 1 Axes>"
      ]
     },
     "metadata": {
      "needs_background": "light"
     },
     "output_type": "display_data"
    }
   ],
   "source": [
    "plot_sample(X_train, Y_train, 4)"
   ]
  },
  {
   "cell_type": "code",
   "execution_count": 42,
   "id": "23fb5a27",
   "metadata": {},
   "outputs": [
    {
     "data": {
      "text/plain": [
       "(28709, 48, 48)"
      ]
     },
     "execution_count": 42,
     "metadata": {},
     "output_type": "execute_result"
    }
   ],
   "source": [
    "X_train.shape"
   ]
  },
  {
   "cell_type": "code",
   "execution_count": 43,
   "id": "3b0e8f4e",
   "metadata": {},
   "outputs": [
    {
     "data": {
      "text/plain": [
       "(7178, 48, 48)"
      ]
     },
     "execution_count": 43,
     "metadata": {},
     "output_type": "execute_result"
    }
   ],
   "source": [
    "X_test.shape"
   ]
  },
  {
   "cell_type": "code",
   "execution_count": 44,
   "id": "0396aaa6",
   "metadata": {},
   "outputs": [
    {
     "data": {
      "text/plain": [
       "array([[ 70,  80,  82, ...,  52,  43,  41],\n",
       "       [ 65,  61,  58, ...,  56,  52,  44],\n",
       "       [ 50,  43,  54, ...,  49,  56,  47],\n",
       "       ...,\n",
       "       [ 91,  65,  42, ...,  72,  56,  43],\n",
       "       [ 77,  82,  79, ..., 105,  70,  46],\n",
       "       [ 77,  72,  84, ..., 106, 109,  82]], dtype=uint8)"
      ]
     },
     "execution_count": 44,
     "metadata": {},
     "output_type": "execute_result"
    }
   ],
   "source": [
    "X_train[0]"
   ]
  },
  {
   "cell_type": "code",
   "execution_count": 46,
   "id": "17e1cd1e",
   "metadata": {},
   "outputs": [],
   "source": [
    "#Normailizing our Data so that we get pixels between 0 and 1\n",
    "X_train = X_train/255\n",
    "X_test = X_test/255"
   ]
  },
  {
   "cell_type": "code",
   "execution_count": 47,
   "id": "5c1a1bf2",
   "metadata": {},
   "outputs": [
    {
     "data": {
      "text/plain": [
       "array([[0.2745098 , 0.31372549, 0.32156863, ..., 0.20392157, 0.16862745,\n",
       "        0.16078431],\n",
       "       [0.25490196, 0.23921569, 0.22745098, ..., 0.21960784, 0.20392157,\n",
       "        0.17254902],\n",
       "       [0.19607843, 0.16862745, 0.21176471, ..., 0.19215686, 0.21960784,\n",
       "        0.18431373],\n",
       "       ...,\n",
       "       [0.35686275, 0.25490196, 0.16470588, ..., 0.28235294, 0.21960784,\n",
       "        0.16862745],\n",
       "       [0.30196078, 0.32156863, 0.30980392, ..., 0.41176471, 0.2745098 ,\n",
       "        0.18039216],\n",
       "       [0.30196078, 0.28235294, 0.32941176, ..., 0.41568627, 0.42745098,\n",
       "        0.32156863]])"
      ]
     },
     "execution_count": 47,
     "metadata": {},
     "output_type": "execute_result"
    }
   ],
   "source": [
    "X_train[0]"
   ]
  },
  {
   "cell_type": "code",
   "execution_count": 48,
   "id": "f6f85331",
   "metadata": {},
   "outputs": [
    {
     "data": {
      "text/plain": [
       "(28709, 48, 48)"
      ]
     },
     "execution_count": 48,
     "metadata": {},
     "output_type": "execute_result"
    }
   ],
   "source": [
    "X_train.shape"
   ]
  },
  {
   "cell_type": "code",
   "execution_count": 53,
   "id": "d7f2ec6b",
   "metadata": {},
   "outputs": [],
   "source": [
    "myModel = models.Sequential([\n",
    "    #Convolutional Layers\n",
    "    layers.Conv2D(filters=32, kernel_size=(3,3), activation='relu', input_shape=(48,48,1)),\n",
    "    layers.MaxPooling2D((2,2)),\n",
    "    layers.Conv2D(filters=64, kernel_size=(3,3), activation='relu', input_shape=(48,48,1)),\n",
    "    layers.MaxPooling2D((2,2)),\n",
    "    layers.Conv2D(filters=128, kernel_size=(3,3), activation='relu', input_shape=(48,48,1)),\n",
    "    layers.MaxPooling2D((2,2)),\n",
    "    \n",
    "    #Dense Neural Network\n",
    "    layers.Flatten(),\n",
    "    layers.Dense(128, activation='relu'),\n",
    "    layers.Dense(64, activation='relu'),\n",
    "    layers.Dense(7, activation='softmax')\n",
    "])"
   ]
  },
  {
   "cell_type": "code",
   "execution_count": 54,
   "id": "3e2e220c",
   "metadata": {},
   "outputs": [],
   "source": [
    "myModel.compile(optimizer='adam', loss='sparse_categorical_crossentropy', metrics=['accuracy'])"
   ]
  },
  {
   "cell_type": "code",
   "execution_count": 55,
   "id": "b8dadbc7",
   "metadata": {},
   "outputs": [
    {
     "name": "stdout",
     "output_type": "stream",
     "text": [
      "Epoch 1/20\n",
      "898/898 [==============================] - 62s 68ms/step - loss: 1.6712 - accuracy: 0.3285\n",
      "Epoch 2/20\n",
      "898/898 [==============================] - 68s 75ms/step - loss: 1.3942 - accuracy: 0.4625\n",
      "Epoch 3/20\n",
      "898/898 [==============================] - 66s 73ms/step - loss: 1.2673 - accuracy: 0.5181\n",
      "Epoch 4/20\n",
      "898/898 [==============================] - 64s 72ms/step - loss: 1.1760 - accuracy: 0.5539\n",
      "Epoch 5/20\n",
      "898/898 [==============================] - 64s 72ms/step - loss: 1.1015 - accuracy: 0.5840\n",
      "Epoch 6/20\n",
      "898/898 [==============================] - 64s 72ms/step - loss: 1.0403 - accuracy: 0.6079\n",
      "Epoch 7/20\n",
      "898/898 [==============================] - 65s 72ms/step - loss: 0.9772 - accuracy: 0.6328\n",
      "Epoch 8/20\n",
      "898/898 [==============================] - 66s 74ms/step - loss: 0.9134 - accuracy: 0.6570\n",
      "Epoch 9/20\n",
      "898/898 [==============================] - 64s 71ms/step - loss: 0.8494 - accuracy: 0.6854\n",
      "Epoch 10/20\n",
      "898/898 [==============================] - 64s 71ms/step - loss: 0.7847 - accuracy: 0.7098\n",
      "Epoch 11/20\n",
      "898/898 [==============================] - 65s 73ms/step - loss: 0.7214 - accuracy: 0.7358\n",
      "Epoch 12/20\n",
      "898/898 [==============================] - 64s 72ms/step - loss: 0.6640 - accuracy: 0.7551\n",
      "Epoch 13/20\n",
      "898/898 [==============================] - 65s 72ms/step - loss: 0.6040 - accuracy: 0.7806\n",
      "Epoch 14/20\n",
      "898/898 [==============================] - 64s 71ms/step - loss: 0.5445 - accuracy: 0.8015\n",
      "Epoch 15/20\n",
      "898/898 [==============================] - 65s 72ms/step - loss: 0.4947 - accuracy: 0.8184\n",
      "Epoch 16/20\n",
      "898/898 [==============================] - 65s 72ms/step - loss: 0.4487 - accuracy: 0.8385\n",
      "Epoch 17/20\n",
      "898/898 [==============================] - 66s 73ms/step - loss: 0.4061 - accuracy: 0.8503\n",
      "Epoch 18/20\n",
      "898/898 [==============================] - 65s 72ms/step - loss: 0.3614 - accuracy: 0.8685\n",
      "Epoch 19/20\n",
      "898/898 [==============================] - 65s 72ms/step - loss: 0.3403 - accuracy: 0.8781\n",
      "Epoch 20/20\n",
      "898/898 [==============================] - 65s 73ms/step - loss: 0.3075 - accuracy: 0.8909\n"
     ]
    }
   ],
   "source": [
    "history = myModel.fit(X_train, Y_train, epochs=20)"
   ]
  },
  {
   "cell_type": "code",
   "execution_count": 69,
   "id": "2dce5ee0",
   "metadata": {},
   "outputs": [
    {
     "name": "stdout",
     "output_type": "stream",
     "text": [
      "225/225 [==============================] - 4s 18ms/step - loss: 2.4550 - accuracy: 0.5379\n"
     ]
    }
   ],
   "source": [
    "evaluation01 = myModel.evaluate(X_test, Y_test)"
   ]
  },
  {
   "cell_type": "code",
   "execution_count": 71,
   "id": "f7e1a7c2",
   "metadata": {},
   "outputs": [
    {
     "data": {
      "text/plain": [
       "<function matplotlib.pyplot.show(close=None, block=None)>"
      ]
     },
     "execution_count": 71,
     "metadata": {},
     "output_type": "execute_result"
    },
    {
     "data": {
      "image/png": "[encoded data removed]",
      "text/plain": [
       "<Figure size 432x288 with 1 Axes>"
      ]
     },
     "metadata": {
      "needs_background": "light"
     },
     "output_type": "display_data"
    }
   ],
   "source": [
    "plt.plot(history.history['accuracy'])\n",
    "plt.title('model_accuracy')\n",
    "plt.ylabel('accuracy')\n",
    "plt.xlabel('epoch')\n",
    "plt.legend(['train'], loc='upper left')\n",
    "plt.show"
   ]
  },
  {
   "cell_type": "code",
   "execution_count": 72,
   "id": "2cca4d41",
   "metadata": {},
   "outputs": [
    {
     "data": {
      "text/plain": [
       "<function matplotlib.pyplot.show(close=None, block=None)>"
      ]
     },
     "execution_count": 72,
     "metadata": {},
     "output_type": "execute_result"
    },
    {
     "data": {
      "image/png": "[encoded data removed]",
      "text/plain": [
       "<Figure size 432x288 with 1 Axes>"
      ]
     },
     "metadata": {
      "needs_background": "light"
     },
     "output_type": "display_data"
    }
   ],
   "source": [
    "plt.plot(history.history['loss'])\n",
    "plt.title('model_loss')\n",
    "plt.ylabel('loss')\n",
    "plt.xlabel('epoch')\n",
    "plt.legend(['train'], loc='upper left')\n",
    "plt.show"
   ]
  },
  {
   "cell_type": "code",
   "execution_count": 98,
   "id": "43dbf4c9",
   "metadata": {},
   "outputs": [],
   "source": [
    "model_final = models.Sequential([\n",
    "    #Convolutional Layers\n",
    "    layers.Conv2D(filters=32, kernel_size=(3,3), activation='relu', input_shape=(48,48,1)),\n",
    "    layers.Conv2D(filters=64, kernel_size=(3,3), activation='relu'),\n",
    "    layers.MaxPooling2D((2,2)),\n",
    "    layers.Dropout(0.25),\n",
    "    \n",
    "    layers.Conv2D(filters=128, kernel_size=(3,3), activation='relu'),\n",
    "    layers.MaxPooling2D((2,2)),\n",
    "    layers.Conv2D(filters=128, kernel_size=(3,3), activation='relu'), #filters 256 add 1 more conv2d filters 512\n",
    "    layers.MaxPooling2D((2,2)),\n",
    "    layers.Dropout(0.25),\n",
    "    \n",
    "    #Dense Neural Network\n",
    "    layers.Flatten(),\n",
    "    layers.Dense(2048, activation='relu'),\n",
    "    layers.Dense(1024, activation='relu'),\n",
    "    layers.Dense(512, activation='relu'),\n",
    "    layers.Dropout(0.5),\n",
    "    \n",
    "    layers.Dense(7, activation='softmax')\n",
    "])"
   ]
  },
  {
   "cell_type": "code",
   "execution_count": 99,
   "id": "96d7fe48",
   "metadata": {},
   "outputs": [],
   "source": [
    "import keras"
   ]
  },
  {
   "cell_type": "code",
   "execution_count": 100,
   "id": "be265148",
   "metadata": {},
   "outputs": [],
   "source": [
    "opt = keras.optimizers.Adam(learning_rate=0.0001,decay=1e-6)\n",
    "model_final.compile(loss='sparse_categorical_crossentropy', optimizer=opt, metrics=['accuracy'])"
   ]
  },
  {
   "cell_type": "code",
   "execution_count": 101,
   "id": "dc8b9f7f",
   "metadata": {},
   "outputs": [
    {
     "name": "stdout",
     "output_type": "stream",
     "text": [
      "Epoch 1/50\n",
      "898/898 [==============================] - 294s 314ms/step - loss: 1.7467 - accuracy: 0.2915 - val_loss: 1.5555 - val_accuracy: 0.3993\n",
      "Epoch 2/50\n",
      "898/898 [==============================] - 288s 320ms/step - loss: 1.5099 - accuracy: 0.4156 - val_loss: 1.4145 - val_accuracy: 0.4586\n",
      "Epoch 3/50\n",
      "898/898 [==============================] - 291s 324ms/step - loss: 1.3850 - accuracy: 0.4678 - val_loss: 1.2990 - val_accuracy: 0.4976\n",
      "Epoch 4/50\n",
      "898/898 [==============================] - 285s 318ms/step - loss: 1.2849 - accuracy: 0.5147 - val_loss: 1.2229 - val_accuracy: 0.5311\n",
      "Epoch 5/50\n",
      "898/898 [==============================] - 286s 318ms/step - loss: 1.1976 - accuracy: 0.5487 - val_loss: 1.1822 - val_accuracy: 0.5421\n",
      "Epoch 6/50\n",
      "898/898 [==============================] - 285s 318ms/step - loss: 1.1256 - accuracy: 0.5785 - val_loss: 1.1364 - val_accuracy: 0.5656\n",
      "Epoch 7/50\n",
      "898/898 [==============================] - 287s 320ms/step - loss: 1.0513 - accuracy: 0.6095 - val_loss: 1.1045 - val_accuracy: 0.5798\n",
      "Epoch 8/50\n",
      "898/898 [==============================] - 286s 318ms/step - loss: 0.9861 - accuracy: 0.6333 - val_loss: 1.0896 - val_accuracy: 0.5903\n",
      "Epoch 9/50\n",
      "898/898 [==============================] - 288s 320ms/step - loss: 0.8951 - accuracy: 0.6696 - val_loss: 1.0889 - val_accuracy: 0.5979\n",
      "Epoch 10/50\n",
      "898/898 [==============================] - 287s 319ms/step - loss: 0.7980 - accuracy: 0.7080 - val_loss: 1.1214 - val_accuracy: 0.5947\n",
      "Epoch 11/50\n",
      "898/898 [==============================] - 286s 318ms/step - loss: 0.7056 - accuracy: 0.7451 - val_loss: 1.1335 - val_accuracy: 0.5979\n",
      "Epoch 12/50\n",
      "898/898 [==============================] - 285s 317ms/step - loss: 0.6094 - accuracy: 0.7816 - val_loss: 1.1597 - val_accuracy: 0.6032\n",
      "Epoch 13/50\n",
      "898/898 [==============================] - 286s 319ms/step - loss: 0.5110 - accuracy: 0.8174 - val_loss: 1.2122 - val_accuracy: 0.6050\n",
      "Epoch 14/50\n",
      "898/898 [==============================] - 287s 319ms/step - loss: 0.4307 - accuracy: 0.8465 - val_loss: 1.2952 - val_accuracy: 0.5979\n",
      "Epoch 15/50\n",
      "898/898 [==============================] - 285s 318ms/step - loss: 0.3643 - accuracy: 0.8713 - val_loss: 1.3635 - val_accuracy: 0.5989\n",
      "Epoch 16/50\n",
      "898/898 [==============================] - 292s 325ms/step - loss: 0.3101 - accuracy: 0.8922 - val_loss: 1.3793 - val_accuracy: 0.6048\n",
      "Epoch 17/50\n",
      "898/898 [==============================] - 286s 318ms/step - loss: 0.2698 - accuracy: 0.9058 - val_loss: 1.4902 - val_accuracy: 0.6038\n",
      "Epoch 18/50\n",
      "898/898 [==============================] - 285s 317ms/step - loss: 0.2372 - accuracy: 0.9180 - val_loss: 1.5198 - val_accuracy: 0.6067\n",
      "Epoch 19/50\n",
      "898/898 [==============================] - 286s 318ms/step - loss: 0.2069 - accuracy: 0.9288 - val_loss: 1.5320 - val_accuracy: 0.6101\n",
      "Epoch 20/50\n",
      "898/898 [==============================] - 287s 319ms/step - loss: 0.1908 - accuracy: 0.9348 - val_loss: 1.6242 - val_accuracy: 0.5972\n",
      "Epoch 21/50\n",
      "898/898 [==============================] - 286s 318ms/step - loss: 0.1641 - accuracy: 0.9449 - val_loss: 1.6829 - val_accuracy: 0.6031\n",
      "Epoch 22/50\n",
      "898/898 [==============================] - 287s 320ms/step - loss: 0.1507 - accuracy: 0.9467 - val_loss: 1.7552 - val_accuracy: 0.6009\n",
      "Epoch 23/50\n",
      "898/898 [==============================] - 287s 319ms/step - loss: 0.1412 - accuracy: 0.9536 - val_loss: 1.7500 - val_accuracy: 0.6034\n",
      "Epoch 24/50\n",
      "898/898 [==============================] - 285s 318ms/step - loss: 0.1307 - accuracy: 0.9560 - val_loss: 1.7932 - val_accuracy: 0.6004\n",
      "Epoch 25/50\n",
      "898/898 [==============================] - 286s 319ms/step - loss: 0.1219 - accuracy: 0.9578 - val_loss: 1.8928 - val_accuracy: 0.6010\n",
      "Epoch 26/50\n",
      "898/898 [==============================] - 286s 318ms/step - loss: 0.1145 - accuracy: 0.9626 - val_loss: 1.8104 - val_accuracy: 0.6003\n",
      "Epoch 27/50\n",
      "898/898 [==============================] - 285s 317ms/step - loss: 0.1067 - accuracy: 0.9654 - val_loss: 1.8005 - val_accuracy: 0.6112\n",
      "Epoch 28/50\n",
      "898/898 [==============================] - 287s 320ms/step - loss: 0.1033 - accuracy: 0.9652 - val_loss: 1.8168 - val_accuracy: 0.6116\n",
      "Epoch 29/50\n",
      "898/898 [==============================] - 288s 320ms/step - loss: 0.0898 - accuracy: 0.9697 - val_loss: 1.9399 - val_accuracy: 0.6057\n",
      "Epoch 30/50\n",
      "898/898 [==============================] - 286s 318ms/step - loss: 0.0962 - accuracy: 0.9678 - val_loss: 1.9248 - val_accuracy: 0.6067\n",
      "Epoch 31/50\n",
      "898/898 [==============================] - 292s 325ms/step - loss: 0.0841 - accuracy: 0.9718 - val_loss: 1.8766 - val_accuracy: 0.6043\n",
      "Epoch 32/50\n",
      "898/898 [==============================] - 288s 321ms/step - loss: 0.0817 - accuracy: 0.9731 - val_loss: 1.9050 - val_accuracy: 0.6006\n",
      "Epoch 33/50\n",
      "898/898 [==============================] - 288s 320ms/step - loss: 0.0783 - accuracy: 0.9743 - val_loss: 2.0110 - val_accuracy: 0.6053\n",
      "Epoch 34/50\n",
      "898/898 [==============================] - 288s 320ms/step - loss: 0.0790 - accuracy: 0.9742 - val_loss: 1.9874 - val_accuracy: 0.6014\n",
      "Epoch 35/50\n",
      "898/898 [==============================] - 289s 321ms/step - loss: 0.0755 - accuracy: 0.9738 - val_loss: 2.1011 - val_accuracy: 0.6060\n",
      "Epoch 36/50\n",
      "898/898 [==============================] - 288s 321ms/step - loss: 0.0679 - accuracy: 0.9763 - val_loss: 2.1824 - val_accuracy: 0.5945\n",
      "Epoch 37/50\n",
      "898/898 [==============================] - 293s 326ms/step - loss: 0.0711 - accuracy: 0.9764 - val_loss: 1.9980 - val_accuracy: 0.6048\n",
      "Epoch 38/50\n",
      "898/898 [==============================] - 290s 323ms/step - loss: 0.0625 - accuracy: 0.9799 - val_loss: 2.0670 - val_accuracy: 0.6059\n",
      "Epoch 39/50\n",
      "898/898 [==============================] - 289s 322ms/step - loss: 0.0661 - accuracy: 0.9767 - val_loss: 2.1136 - val_accuracy: 0.6024\n",
      "Epoch 40/50\n",
      "898/898 [==============================] - 290s 323ms/step - loss: 0.0617 - accuracy: 0.9792 - val_loss: 2.2027 - val_accuracy: 0.6043\n",
      "Epoch 41/50\n",
      "898/898 [==============================] - 299s 333ms/step - loss: 0.0587 - accuracy: 0.9795 - val_loss: 2.2658 - val_accuracy: 0.6000\n",
      "Epoch 42/50\n",
      "898/898 [==============================] - 291s 324ms/step - loss: 0.0594 - accuracy: 0.9798 - val_loss: 2.2259 - val_accuracy: 0.5986\n",
      "Epoch 43/50\n",
      "898/898 [==============================] - 301s 335ms/step - loss: 0.0595 - accuracy: 0.9797 - val_loss: 2.1381 - val_accuracy: 0.5993\n",
      "Epoch 44/50\n",
      "898/898 [==============================] - 293s 326ms/step - loss: 0.0529 - accuracy: 0.9813 - val_loss: 2.1488 - val_accuracy: 0.6069\n",
      "Epoch 45/50\n",
      "898/898 [==============================] - 292s 326ms/step - loss: 0.0538 - accuracy: 0.9816 - val_loss: 2.1984 - val_accuracy: 0.5958\n",
      "Epoch 46/50\n",
      "898/898 [==============================] - 289s 322ms/step - loss: 0.0537 - accuracy: 0.9816 - val_loss: 2.1811 - val_accuracy: 0.6039\n",
      "Epoch 47/50\n",
      "898/898 [==============================] - 290s 322ms/step - loss: 0.0494 - accuracy: 0.9828 - val_loss: 2.2699 - val_accuracy: 0.6013\n",
      "Epoch 48/50\n",
      "898/898 [==============================] - 291s 324ms/step - loss: 0.0528 - accuracy: 0.9817 - val_loss: 2.1814 - val_accuracy: 0.6007\n",
      "Epoch 49/50\n",
      "898/898 [==============================] - 291s 324ms/step - loss: 0.0480 - accuracy: 0.9824 - val_loss: 2.1811 - val_accuracy: 0.6053\n",
      "Epoch 50/50\n",
      "898/898 [==============================] - 290s 323ms/step - loss: 0.0459 - accuracy: 0.9841 - val_loss: 2.3163 - val_accuracy: 0.6080\n"
     ]
    }
   ],
   "source": [
    "model_final_details = model_final.fit(X_train, Y_train, epochs=50, validation_data=(X_test,Y_test))"
   ]
  },
  {
   "cell_type": "code",
   "execution_count": 103,
   "id": "74c8a9a7",
   "metadata": {},
   "outputs": [],
   "source": [
    "train_loss = model_final_details.history['loss']\n",
    "val_loss = model_final_details.history['val_loss']\n",
    "train_acc = model_final_details.history['accuracy']\n",
    "val_acc = model_final_details.history['val_accuracy']\n",
    "xc=range(50)"
   ]
  },
  {
   "cell_type": "code",
   "execution_count": 107,
   "id": "a592d629",
   "metadata": {},
   "outputs": [
    {
     "name": "stdout",
     "output_type": "stream",
     "text": [
      "['Solarize_Light2', '_classic_test_patch', '_mpl-gallery', '_mpl-gallery-nogrid', 'bmh', 'classic', 'dark_background', 'fast', 'fivethirtyeight', 'ggplot', 'grayscale', 'seaborn', 'seaborn-bright', 'seaborn-colorblind', 'seaborn-dark', 'seaborn-dark-palette', 'seaborn-darkgrid', 'seaborn-deep', 'seaborn-muted', 'seaborn-notebook', 'seaborn-paper', 'seaborn-pastel', 'seaborn-poster', 'seaborn-talk', 'seaborn-ticks', 'seaborn-white', 'seaborn-whitegrid', 'tableau-colorblind10']\n"
     ]
    },
    {
     "data": {
      "image/png": "[encoded data removed]",
      "text/plain": [
       "<Figure size 560x400 with 1 Axes>"
      ]
     },
     "metadata": {},
     "output_type": "display_data"
    }
   ],
   "source": [
    "plt.figure(1,figsize=(7,5))\n",
    "plt.plot(xc,train_loss)\n",
    "plt.plot(xc,val_loss)\n",
    "plt.xlabel('Epochs')\n",
    "plt.ylabel('loss')\n",
    "plt.title('Train Loss vs Val Loss')\n",
    "plt.grid(True)\n",
    "plt.legend(['train','val'], loc='upper left')\n",
    "print(plt.style.available)\n",
    "plt.style.use(['classic'])"
   ]
  },
  {
   "cell_type": "code",
   "execution_count": 109,
   "id": "b4dc37f9",
   "metadata": {},
   "outputs": [
    {
     "data": {
      "text/plain": [
       "<Figure size 640x480 with 0 Axes>"
      ]
     },
     "metadata": {},
     "output_type": "display_data"
    }
   ],
   "source": [
    "plt.savefig('Train Loss VS Val Loss.png')"
   ]
  },
  {
   "cell_type": "code",
   "execution_count": 110,
   "id": "daa977a8",
   "metadata": {},
   "outputs": [
    {
     "name": "stdout",
     "output_type": "stream",
     "text": [
      "['Solarize_Light2', '_classic_test_patch', '_mpl-gallery', '_mpl-gallery-nogrid', 'bmh', 'classic', 'dark_background', 'fast', 'fivethirtyeight', 'ggplot', 'grayscale', 'seaborn', 'seaborn-bright', 'seaborn-colorblind', 'seaborn-dark', 'seaborn-dark-palette', 'seaborn-darkgrid', 'seaborn-deep', 'seaborn-muted', 'seaborn-notebook', 'seaborn-paper', 'seaborn-pastel', 'seaborn-poster', 'seaborn-talk', 'seaborn-ticks', 'seaborn-white', 'seaborn-whitegrid', 'tableau-colorblind10']\n"
     ]
    },
    {
     "data": {
      "image/png": "[encoded data removed]",
      "text/plain": [
       "<Figure size 560x400 with 1 Axes>"
      ]
     },
     "metadata": {},
     "output_type": "display_data"
    }
   ],
   "source": [
    "plt.figure(1,figsize=(7,5))\n",
    "plt.plot(xc,train_acc)\n",
    "plt.plot(xc,val_acc)\n",
    "plt.xlabel('Epochs')\n",
    "plt.ylabel('accuracy')\n",
    "plt.title('Train Acc vs Val Acc')\n",
    "plt.grid(True)\n",
    "plt.legend(['train','val'], loc='upper left')\n",
    "print(plt.style.available)\n",
    "plt.style.use(['classic'])"
   ]
  },
  {
   "cell_type": "code",
   "execution_count": 111,
   "id": "46ef0b74",
   "metadata": {},
   "outputs": [
    {
     "data": {
      "text/plain": [
       "<Figure size 640x480 with 0 Axes>"
      ]
     },
     "metadata": {},
     "output_type": "display_data"
    }
   ],
   "source": [
    "plt.savefig('Train Acc vs Val Acc.png')"
   ]
  },
  {
   "cell_type": "code",
   "execution_count": 112,
   "id": "045ded09",
   "metadata": {},
   "outputs": [
    {
     "name": "stdout",
     "output_type": "stream",
     "text": [
      "['Solarize_Light2', '_classic_test_patch', '_mpl-gallery', '_mpl-gallery-nogrid', 'bmh', 'classic', 'dark_background', 'fast', 'fivethirtyeight', 'ggplot', 'grayscale', 'seaborn', 'seaborn-bright', 'seaborn-colorblind', 'seaborn-dark', 'seaborn-dark-palette', 'seaborn-darkgrid', 'seaborn-deep', 'seaborn-muted', 'seaborn-notebook', 'seaborn-paper', 'seaborn-pastel', 'seaborn-poster', 'seaborn-talk', 'seaborn-ticks', 'seaborn-white', 'seaborn-whitegrid', 'tableau-colorblind10']\n"
     ]
    },
    {
     "data": {
      "image/png": "[encoded data removed]",
      "text/plain": [
       "<Figure size 560x400 with 1 Axes>"
      ]
     },
     "metadata": {},
     "output_type": "display_data"
    }
   ],
   "source": [
    "plt.figure(1,figsize=(7,5))\n",
    "plt.plot(xc,train_acc)\n",
    "plt.plot(xc,train_loss)\n",
    "plt.xlabel('Epochs')\n",
    "plt.ylabel('accuracy_loss')\n",
    "plt.title('Train Acc vs Train Loss')\n",
    "plt.grid(True)\n",
    "plt.legend(['train_acc','train_loss'], loc='upper left')\n",
    "print(plt.style.available)\n",
    "plt.style.use(['classic'])"
   ]
  },
  {
   "cell_type": "code",
   "execution_count": 113,
   "id": "9d0232a2",
   "metadata": {},
   "outputs": [
    {
     "data": {
      "text/plain": [
       "<Figure size 640x480 with 0 Axes>"
      ]
     },
     "metadata": {},
     "output_type": "display_data"
    }
   ],
   "source": [
    "plt.savefig('Train Acc vs Train Loss.png')"
   ]
  },
  {
   "cell_type": "code",
   "execution_count": 114,
   "id": "6a588655",
   "metadata": {},
   "outputs": [
    {
     "name": "stdout",
     "output_type": "stream",
     "text": [
      "['Solarize_Light2', '_classic_test_patch', '_mpl-gallery', '_mpl-gallery-nogrid', 'bmh', 'classic', 'dark_background', 'fast', 'fivethirtyeight', 'ggplot', 'grayscale', 'seaborn', 'seaborn-bright', 'seaborn-colorblind', 'seaborn-dark', 'seaborn-dark-palette', 'seaborn-darkgrid', 'seaborn-deep', 'seaborn-muted', 'seaborn-notebook', 'seaborn-paper', 'seaborn-pastel', 'seaborn-poster', 'seaborn-talk', 'seaborn-ticks', 'seaborn-white', 'seaborn-whitegrid', 'tableau-colorblind10']\n"
     ]
    },
    {
     "data": {
      "image/png": "[encoded data removed]",
      "text/plain": [
       "<Figure size 560x400 with 1 Axes>"
      ]
     },
     "metadata": {},
     "output_type": "display_data"
    }
   ],
   "source": [
    "plt.figure(1,figsize=(7,5))\n",
    "plt.plot(xc,val_acc)\n",
    "plt.plot(xc,val_loss)\n",
    "plt.xlabel('Epochs')\n",
    "plt.ylabel('accuracy_loss')\n",
    "plt.title('Val Acc vs Val Loss')\n",
    "plt.grid(True)\n",
    "plt.legend(['val_acc','val_loss'], loc='upper left')\n",
    "print(plt.style.available)\n",
    "plt.style.use(['classic'])"
   ]
  },
  {
   "cell_type": "code",
   "execution_count": 115,
   "id": "5f769cfc",
   "metadata": {},
   "outputs": [
    {
     "data": {
      "text/plain": [
       "<Figure size 640x480 with 0 Axes>"
      ]
     },
     "metadata": {},
     "output_type": "display_data"
    }
   ],
   "source": [
    "plt.savefig('Val Acc VS Val Loss.png')"
   ]
  },
  {
   "cell_type": "code",
   "execution_count": 116,
   "id": "9088dd80",
   "metadata": {},
   "outputs": [],
   "source": [
    "from tensorflow.keras.models import load_model"
   ]
  },
  {
   "cell_type": "code",
   "execution_count": 117,
   "id": "7f9a4d07",
   "metadata": {},
   "outputs": [],
   "source": [
    "model_final.save('model_final.h5')"
   ]
  },
  {
   "cell_type": "code",
   "execution_count": 120,
   "id": "c64fe1c1",
   "metadata": {},
   "outputs": [
    {
     "data": {
      "text/html": [
       "<div>\n",
       "<style scoped>\n",
       "    .dataframe tbody tr th:only-of-type {\n",
       "        vertical-align: middle;\n",
       "    }\n",
       "\n",
       "    .dataframe tbody tr th {\n",
       "        vertical-align: top;\n",
       "    }\n",
       "\n",
       "    .dataframe thead th {\n",
       "        text-align: right;\n",
       "    }\n",
       "</style>\n",
       "<table border=\"1\" class=\"dataframe\">\n",
       "  <thead>\n",
       "    <tr style=\"text-align: right;\">\n",
       "      <th></th>\n",
       "      <th>loss</th>\n",
       "      <th>accuracy</th>\n",
       "      <th>val_loss</th>\n",
       "      <th>val_accuracy</th>\n",
       "    </tr>\n",
       "  </thead>\n",
       "  <tbody>\n",
       "    <tr>\n",
       "      <th>0</th>\n",
       "      <td>1.746748</td>\n",
       "      <td>0.291546</td>\n",
       "      <td>1.555466</td>\n",
       "      <td>0.399276</td>\n",
       "    </tr>\n",
       "    <tr>\n",
       "      <th>1</th>\n",
       "      <td>1.509929</td>\n",
       "      <td>0.415584</td>\n",
       "      <td>1.414513</td>\n",
       "      <td>0.458624</td>\n",
       "    </tr>\n",
       "    <tr>\n",
       "      <th>2</th>\n",
       "      <td>1.384972</td>\n",
       "      <td>0.467832</td>\n",
       "      <td>1.299013</td>\n",
       "      <td>0.497632</td>\n",
       "    </tr>\n",
       "    <tr>\n",
       "      <th>3</th>\n",
       "      <td>1.284872</td>\n",
       "      <td>0.514682</td>\n",
       "      <td>1.222877</td>\n",
       "      <td>0.531067</td>\n",
       "    </tr>\n",
       "    <tr>\n",
       "      <th>4</th>\n",
       "      <td>1.197579</td>\n",
       "      <td>0.548678</td>\n",
       "      <td>1.182228</td>\n",
       "      <td>0.542073</td>\n",
       "    </tr>\n",
       "    <tr>\n",
       "      <th>5</th>\n",
       "      <td>1.125631</td>\n",
       "      <td>0.578529</td>\n",
       "      <td>1.136378</td>\n",
       "      <td>0.565617</td>\n",
       "    </tr>\n",
       "    <tr>\n",
       "      <th>6</th>\n",
       "      <td>1.051269</td>\n",
       "      <td>0.609460</td>\n",
       "      <td>1.104531</td>\n",
       "      <td>0.579827</td>\n",
       "    </tr>\n",
       "    <tr>\n",
       "      <th>7</th>\n",
       "      <td>0.986080</td>\n",
       "      <td>0.633286</td>\n",
       "      <td>1.089560</td>\n",
       "      <td>0.590276</td>\n",
       "    </tr>\n",
       "    <tr>\n",
       "      <th>8</th>\n",
       "      <td>0.895091</td>\n",
       "      <td>0.669616</td>\n",
       "      <td>1.088903</td>\n",
       "      <td>0.597938</td>\n",
       "    </tr>\n",
       "    <tr>\n",
       "      <th>9</th>\n",
       "      <td>0.797999</td>\n",
       "      <td>0.707966</td>\n",
       "      <td>1.121368</td>\n",
       "      <td>0.594734</td>\n",
       "    </tr>\n",
       "    <tr>\n",
       "      <th>10</th>\n",
       "      <td>0.705594</td>\n",
       "      <td>0.745132</td>\n",
       "      <td>1.133502</td>\n",
       "      <td>0.597938</td>\n",
       "    </tr>\n",
       "    <tr>\n",
       "      <th>11</th>\n",
       "      <td>0.609383</td>\n",
       "      <td>0.781636</td>\n",
       "      <td>1.159666</td>\n",
       "      <td>0.603232</td>\n",
       "    </tr>\n",
       "    <tr>\n",
       "      <th>12</th>\n",
       "      <td>0.510990</td>\n",
       "      <td>0.817444</td>\n",
       "      <td>1.212211</td>\n",
       "      <td>0.605043</td>\n",
       "    </tr>\n",
       "    <tr>\n",
       "      <th>13</th>\n",
       "      <td>0.430725</td>\n",
       "      <td>0.846529</td>\n",
       "      <td>1.295224</td>\n",
       "      <td>0.597938</td>\n",
       "    </tr>\n",
       "    <tr>\n",
       "      <th>14</th>\n",
       "      <td>0.364258</td>\n",
       "      <td>0.871330</td>\n",
       "      <td>1.363504</td>\n",
       "      <td>0.598913</td>\n",
       "    </tr>\n",
       "    <tr>\n",
       "      <th>15</th>\n",
       "      <td>0.310114</td>\n",
       "      <td>0.892194</td>\n",
       "      <td>1.379275</td>\n",
       "      <td>0.604765</td>\n",
       "    </tr>\n",
       "    <tr>\n",
       "      <th>16</th>\n",
       "      <td>0.269776</td>\n",
       "      <td>0.905814</td>\n",
       "      <td>1.490222</td>\n",
       "      <td>0.603789</td>\n",
       "    </tr>\n",
       "    <tr>\n",
       "      <th>17</th>\n",
       "      <td>0.237185</td>\n",
       "      <td>0.918005</td>\n",
       "      <td>1.519783</td>\n",
       "      <td>0.606715</td>\n",
       "    </tr>\n",
       "    <tr>\n",
       "      <th>18</th>\n",
       "      <td>0.206936</td>\n",
       "      <td>0.928803</td>\n",
       "      <td>1.531992</td>\n",
       "      <td>0.610058</td>\n",
       "    </tr>\n",
       "    <tr>\n",
       "      <th>19</th>\n",
       "      <td>0.190803</td>\n",
       "      <td>0.934759</td>\n",
       "      <td>1.624175</td>\n",
       "      <td>0.597242</td>\n",
       "    </tr>\n",
       "    <tr>\n",
       "      <th>20</th>\n",
       "      <td>0.164113</td>\n",
       "      <td>0.944930</td>\n",
       "      <td>1.682881</td>\n",
       "      <td>0.603093</td>\n",
       "    </tr>\n",
       "    <tr>\n",
       "      <th>21</th>\n",
       "      <td>0.150720</td>\n",
       "      <td>0.946672</td>\n",
       "      <td>1.755169</td>\n",
       "      <td>0.600864</td>\n",
       "    </tr>\n",
       "    <tr>\n",
       "      <th>22</th>\n",
       "      <td>0.141184</td>\n",
       "      <td>0.953603</td>\n",
       "      <td>1.749999</td>\n",
       "      <td>0.603371</td>\n",
       "    </tr>\n",
       "    <tr>\n",
       "      <th>23</th>\n",
       "      <td>0.130749</td>\n",
       "      <td>0.956007</td>\n",
       "      <td>1.793206</td>\n",
       "      <td>0.600446</td>\n",
       "    </tr>\n",
       "    <tr>\n",
       "      <th>24</th>\n",
       "      <td>0.121858</td>\n",
       "      <td>0.957783</td>\n",
       "      <td>1.892766</td>\n",
       "      <td>0.601003</td>\n",
       "    </tr>\n",
       "    <tr>\n",
       "      <th>25</th>\n",
       "      <td>0.114541</td>\n",
       "      <td>0.962625</td>\n",
       "      <td>1.810445</td>\n",
       "      <td>0.600307</td>\n",
       "    </tr>\n",
       "    <tr>\n",
       "      <th>26</th>\n",
       "      <td>0.106679</td>\n",
       "      <td>0.965412</td>\n",
       "      <td>1.800474</td>\n",
       "      <td>0.611173</td>\n",
       "    </tr>\n",
       "    <tr>\n",
       "      <th>27</th>\n",
       "      <td>0.103332</td>\n",
       "      <td>0.965203</td>\n",
       "      <td>1.816849</td>\n",
       "      <td>0.611591</td>\n",
       "    </tr>\n",
       "    <tr>\n",
       "      <th>28</th>\n",
       "      <td>0.089768</td>\n",
       "      <td>0.969661</td>\n",
       "      <td>1.939916</td>\n",
       "      <td>0.605740</td>\n",
       "    </tr>\n",
       "    <tr>\n",
       "      <th>29</th>\n",
       "      <td>0.096237</td>\n",
       "      <td>0.967850</td>\n",
       "      <td>1.924821</td>\n",
       "      <td>0.606715</td>\n",
       "    </tr>\n",
       "    <tr>\n",
       "      <th>30</th>\n",
       "      <td>0.084061</td>\n",
       "      <td>0.971821</td>\n",
       "      <td>1.876607</td>\n",
       "      <td>0.604347</td>\n",
       "    </tr>\n",
       "    <tr>\n",
       "      <th>31</th>\n",
       "      <td>0.081719</td>\n",
       "      <td>0.973075</td>\n",
       "      <td>1.904971</td>\n",
       "      <td>0.600585</td>\n",
       "    </tr>\n",
       "    <tr>\n",
       "      <th>32</th>\n",
       "      <td>0.078332</td>\n",
       "      <td>0.974294</td>\n",
       "      <td>2.011004</td>\n",
       "      <td>0.605322</td>\n",
       "    </tr>\n",
       "    <tr>\n",
       "      <th>33</th>\n",
       "      <td>0.078986</td>\n",
       "      <td>0.974224</td>\n",
       "      <td>1.987386</td>\n",
       "      <td>0.601421</td>\n",
       "    </tr>\n",
       "    <tr>\n",
       "      <th>34</th>\n",
       "      <td>0.075538</td>\n",
       "      <td>0.973771</td>\n",
       "      <td>2.101113</td>\n",
       "      <td>0.606018</td>\n",
       "    </tr>\n",
       "    <tr>\n",
       "      <th>35</th>\n",
       "      <td>0.067945</td>\n",
       "      <td>0.976314</td>\n",
       "      <td>2.182417</td>\n",
       "      <td>0.594455</td>\n",
       "    </tr>\n",
       "    <tr>\n",
       "      <th>36</th>\n",
       "      <td>0.071125</td>\n",
       "      <td>0.976419</td>\n",
       "      <td>1.998029</td>\n",
       "      <td>0.604765</td>\n",
       "    </tr>\n",
       "    <tr>\n",
       "      <th>37</th>\n",
       "      <td>0.062546</td>\n",
       "      <td>0.979902</td>\n",
       "      <td>2.066976</td>\n",
       "      <td>0.605879</td>\n",
       "    </tr>\n",
       "    <tr>\n",
       "      <th>38</th>\n",
       "      <td>0.066053</td>\n",
       "      <td>0.976697</td>\n",
       "      <td>2.113602</td>\n",
       "      <td>0.602396</td>\n",
       "    </tr>\n",
       "    <tr>\n",
       "      <th>39</th>\n",
       "      <td>0.061683</td>\n",
       "      <td>0.979240</td>\n",
       "      <td>2.202665</td>\n",
       "      <td>0.604347</td>\n",
       "    </tr>\n",
       "    <tr>\n",
       "      <th>40</th>\n",
       "      <td>0.058699</td>\n",
       "      <td>0.979484</td>\n",
       "      <td>2.265763</td>\n",
       "      <td>0.600028</td>\n",
       "    </tr>\n",
       "    <tr>\n",
       "      <th>41</th>\n",
       "      <td>0.059396</td>\n",
       "      <td>0.979797</td>\n",
       "      <td>2.225886</td>\n",
       "      <td>0.598635</td>\n",
       "    </tr>\n",
       "    <tr>\n",
       "      <th>42</th>\n",
       "      <td>0.059494</td>\n",
       "      <td>0.979693</td>\n",
       "      <td>2.138113</td>\n",
       "      <td>0.599331</td>\n",
       "    </tr>\n",
       "    <tr>\n",
       "      <th>43</th>\n",
       "      <td>0.052869</td>\n",
       "      <td>0.981330</td>\n",
       "      <td>2.148846</td>\n",
       "      <td>0.606854</td>\n",
       "    </tr>\n",
       "    <tr>\n",
       "      <th>44</th>\n",
       "      <td>0.053836</td>\n",
       "      <td>0.981643</td>\n",
       "      <td>2.198419</td>\n",
       "      <td>0.595848</td>\n",
       "    </tr>\n",
       "    <tr>\n",
       "      <th>45</th>\n",
       "      <td>0.053722</td>\n",
       "      <td>0.981574</td>\n",
       "      <td>2.181054</td>\n",
       "      <td>0.603929</td>\n",
       "    </tr>\n",
       "    <tr>\n",
       "      <th>46</th>\n",
       "      <td>0.049384</td>\n",
       "      <td>0.982793</td>\n",
       "      <td>2.269907</td>\n",
       "      <td>0.601282</td>\n",
       "    </tr>\n",
       "    <tr>\n",
       "      <th>47</th>\n",
       "      <td>0.052808</td>\n",
       "      <td>0.981748</td>\n",
       "      <td>2.181438</td>\n",
       "      <td>0.600724</td>\n",
       "    </tr>\n",
       "    <tr>\n",
       "      <th>48</th>\n",
       "      <td>0.047961</td>\n",
       "      <td>0.982445</td>\n",
       "      <td>2.181074</td>\n",
       "      <td>0.605322</td>\n",
       "    </tr>\n",
       "    <tr>\n",
       "      <th>49</th>\n",
       "      <td>0.045941</td>\n",
       "      <td>0.984116</td>\n",
       "      <td>2.316281</td>\n",
       "      <td>0.607969</td>\n",
       "    </tr>\n",
       "  </tbody>\n",
       "</table>\n",
       "</div>"
      ],
      "text/plain": [
       "        loss  accuracy  val_loss  val_accuracy\n",
       "0   1.746748  0.291546  1.555466      0.399276\n",
       "1   1.509929  0.415584  1.414513      0.458624\n",
       "2   1.384972  0.467832  1.299013      0.497632\n",
       "3   1.284872  0.514682  1.222877      0.531067\n",
       "4   1.197579  0.548678  1.182228      0.542073\n",
       "5   1.125631  0.578529  1.136378      0.565617\n",
       "6   1.051269  0.609460  1.104531      0.579827\n",
       "7   0.986080  0.633286  1.089560      0.590276\n",
       "8   0.895091  0.669616  1.088903      0.597938\n",
       "9   0.797999  0.707966  1.121368      0.594734\n",
       "10  0.705594  0.745132  1.133502      0.597938\n",
       "11  0.609383  0.781636  1.159666      0.603232\n",
       "12  0.510990  0.817444  1.212211      0.605043\n",
       "13  0.430725  0.846529  1.295224      0.597938\n",
       "14  0.364258  0.871330  1.363504      0.598913\n",
       "15  0.310114  0.892194  1.379275      0.604765\n",
       "16  0.269776  0.905814  1.490222      0.603789\n",
       "17  0.237185  0.918005  1.519783      0.606715\n",
       "18  0.206936  0.928803  1.531992      0.610058\n",
       "19  0.190803  0.934759  1.624175      0.597242\n",
       "20  0.164113  0.944930  1.682881      0.603093\n",
       "21  0.150720  0.946672  1.755169      0.600864\n",
       "22  0.141184  0.953603  1.749999      0.603371\n",
       "23  0.130749  0.956007  1.793206      0.600446\n",
       "24  0.121858  0.957783  1.892766      0.601003\n",
       "25  0.114541  0.962625  1.810445      0.600307\n",
       "26  0.106679  0.965412  1.800474      0.611173\n",
       "27  0.103332  0.965203  1.816849      0.611591\n",
       "28  0.089768  0.969661  1.939916      0.605740\n",
       "29  0.096237  0.967850  1.924821      0.606715\n",
       "30  0.084061  0.971821  1.876607      0.604347\n",
       "31  0.081719  0.973075  1.904971      0.600585\n",
       "32  0.078332  0.974294  2.011004      0.605322\n",
       "33  0.078986  0.974224  1.987386      0.601421\n",
       "34  0.075538  0.973771  2.101113      0.606018\n",
       "35  0.067945  0.976314  2.182417      0.594455\n",
       "36  0.071125  0.976419  1.998029      0.604765\n",
       "37  0.062546  0.979902  2.066976      0.605879\n",
       "38  0.066053  0.976697  2.113602      0.602396\n",
       "39  0.061683  0.979240  2.202665      0.604347\n",
       "40  0.058699  0.979484  2.265763      0.600028\n",
       "41  0.059396  0.979797  2.225886      0.598635\n",
       "42  0.059494  0.979693  2.138113      0.599331\n",
       "43  0.052869  0.981330  2.148846      0.606854\n",
       "44  0.053836  0.981643  2.198419      0.595848\n",
       "45  0.053722  0.981574  2.181054      0.603929\n",
       "46  0.049384  0.982793  2.269907      0.601282\n",
       "47  0.052808  0.981748  2.181438      0.600724\n",
       "48  0.047961  0.982445  2.181074      0.605322\n",
       "49  0.045941  0.984116  2.316281      0.607969"
      ]
     },
     "execution_count": 120,
     "metadata": {},
     "output_type": "execute_result"
    }
   ],
   "source": [
    "model_hist_df = pd.DataFrame(model_final_details.history)\n",
    "model_hist_df"
   ]
  },
  {
   "cell_type": "code",
   "execution_count": 121,
   "id": "61d9df26",
   "metadata": {},
   "outputs": [],
   "source": [
    "with open('model_history.csv', mode='w') as f:\n",
    "    model_hist_df.to_csv(f)"
   ]
  },
  {
   "cell_type": "code",
   "execution_count": 128,
   "id": "121a9e30",
   "metadata": {},
   "outputs": [
    {
     "name": "stdout",
     "output_type": "stream",
     "text": [
      "Model: \"sequential_5\"\n",
      "_________________________________________________________________\n",
      " Layer (type)                Output Shape              Param #   \n",
      "=================================================================\n",
      " conv2d_16 (Conv2D)          (None, 46, 46, 32)        320       \n",
      "                                                                 \n",
      " conv2d_17 (Conv2D)          (None, 44, 44, 64)        18496     \n",
      "                                                                 \n",
      " max_pooling2d_14 (MaxPoolin  (None, 22, 22, 64)       0         \n",
      " g2D)                                                            \n",
      "                                                                 \n",
      " dropout_6 (Dropout)         (None, 22, 22, 64)        0         \n",
      "                                                                 \n",
      " conv2d_18 (Conv2D)          (None, 20, 20, 128)       73856     \n",
      "                                                                 \n",
      " max_pooling2d_15 (MaxPoolin  (None, 10, 10, 128)      0         \n",
      " g2D)                                                            \n",
      "                                                                 \n",
      " conv2d_19 (Conv2D)          (None, 8, 8, 128)         147584    \n",
      "                                                                 \n",
      " max_pooling2d_16 (MaxPoolin  (None, 4, 4, 128)        0         \n",
      " g2D)                                                            \n",
      "                                                                 \n",
      " dropout_7 (Dropout)         (None, 4, 4, 128)         0         \n",
      "                                                                 \n",
      " flatten_5 (Flatten)         (None, 2048)              0         \n",
      "                                                                 \n",
      " dense_16 (Dense)            (None, 2048)              4196352   \n",
      "                                                                 \n",
      " dense_17 (Dense)            (None, 1024)              2098176   \n",
      "                                                                 \n",
      " dense_18 (Dense)            (None, 512)               524800    \n",
      "                                                                 \n",
      " dropout_8 (Dropout)         (None, 512)               0         \n",
      "                                                                 \n",
      " dense_19 (Dense)            (None, 7)                 3591      \n",
      "                                                                 \n",
      "=================================================================\n",
      "Total params: 7,063,175\n",
      "Trainable params: 7,063,175\n",
      "Non-trainable params: 0\n",
      "_________________________________________________________________\n"
     ]
    }
   ],
   "source": [
    "model_final.summary()"
   ]
  },
  {
   "cell_type": "code",
   "execution_count": 132,
   "id": "6b7311f5",
   "metadata": {},
   "outputs": [],
   "source": [
    "from contextlib import redirect_stdout\n",
    "\n",
    "with open('model_summary.txt', mode='w') as f:\n",
    "    with redirect_stdout(f):\n",
    "        model_final.summary()"
   ]
  },
  {
   "cell_type": "code",
   "execution_count": null,
   "id": "3815678f",
   "metadata": {},
   "outputs": [],
   "source": []
  }
 ],
 "metadata": {
  "kernelspec": {
   "display_name": "Python 3 (ipykernel)",
   "language": "python",
   "name": "python3"
  },
  "language_info": {
   "codemirror_mode": {
    "name": "ipython",
    "version": 3
   },
   "file_extension": ".py",
   "mimetype": "text/x-python",
   "name": "python",
   "nbconvert_exporter": "python",
   "pygments_lexer": "ipython3",
   "version": "3.9.12"
  }
 },
 "nbformat": 4,
 "nbformat_minor": 5
}
